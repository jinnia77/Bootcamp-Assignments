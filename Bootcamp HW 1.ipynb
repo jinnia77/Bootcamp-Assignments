{
 "cells": [
  {
   "cell_type": "markdown",
   "id": "f5b4d254",
   "metadata": {},
   "source": [
    "# Problem 1"
   ]
  },
  {
   "cell_type": "code",
   "execution_count": null,
   "id": "95b24d03",
   "metadata": {},
   "outputs": [],
   "source": [
    "class Solution:\n",
    "    def containsDuplicate(self, nums: List[int]) -> bool:\n",
    "        # nums.sort()\n",
    "        # for i in range(1, len(nums)):\n",
    "        #     if nums[i] == nums[i - 1]:\n",
    "        #         return True\n",
    "        # return False\n",
    "        \n",
    "        seen = set()\n",
    "        for num in nums:\n",
    "            if num in seen:\n",
    "                return True\n",
    "            seen.add(num)\n",
    "        return False"
   ]
  },
  {
   "cell_type": "markdown",
   "id": "ebe2002e",
   "metadata": {},
   "source": [
    "# Problem 2"
   ]
  },
  {
   "cell_type": "code",
   "execution_count": null,
   "id": "bd55f14b",
   "metadata": {},
   "outputs": [],
   "source": [
    "class Solution:\n",
    "    def maxArea(self, height: List[int]) -> int:\n",
    "        max_area = 0\n",
    "        left, right = 0, len(height) - 1\n",
    "\n",
    "        while left < right:\n",
    "            min_value = min(height[right], height[left])\n",
    "            area = min_value * (right - left)\n",
    "            max_area = max(max_area, area)\n",
    "            \n",
    "            if height[left] < height[right]:\n",
    "                left += 1\n",
    "            \n",
    "            else:\n",
    "                right -= 1\n",
    "\n",
    "        return max_area"
   ]
  },
  {
   "cell_type": "markdown",
   "id": "374e5b04",
   "metadata": {},
   "source": [
    "# Problem 3"
   ]
  },
  {
   "cell_type": "code",
   "execution_count": null,
   "id": "1c376cb8",
   "metadata": {},
   "outputs": [],
   "source": [
    "class Solution:\n",
    "    def maxSlidingWindow(self, nums: List[int], k: int) -> List[int]:\n",
    "        result = []\n",
    "        window = deque()\n",
    "\n",
    "        for i, num in enumerate(nums):\n",
    "            while window and window[0] < i - k + 1:\n",
    "                window.popleft()\n",
    "\n",
    "            while window and nums[window[-1]] < num:\n",
    "                window.pop()\n",
    "\n",
    "            window.append(i)\n",
    "\n",
    "            if i >= k - 1:\n",
    "                result.append(nums[window[0]])\n",
    "      \n",
    "        return result"
   ]
  }
 ],
 "metadata": {
  "kernelspec": {
   "display_name": "Python 3 (ipykernel)",
   "language": "python",
   "name": "python3"
  },
  "language_info": {
   "codemirror_mode": {
    "name": "ipython",
    "version": 3
   },
   "file_extension": ".py",
   "mimetype": "text/x-python",
   "name": "python",
   "nbconvert_exporter": "python",
   "pygments_lexer": "ipython3",
   "version": "3.8.18"
  }
 },
 "nbformat": 4,
 "nbformat_minor": 5
}
