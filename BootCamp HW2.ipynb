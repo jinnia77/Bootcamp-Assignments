{
 "cells": [
  {
   "cell_type": "markdown",
   "id": "357f48bb",
   "metadata": {},
   "source": [
    "# Problem 1 Isomorphic Strings"
   ]
  },
  {
   "cell_type": "code",
   "execution_count": null,
   "id": "f6a8aecf",
   "metadata": {},
   "outputs": [],
   "source": [
    "class Solution:\n",
    "    def isIsomorphic(self, s: str, t: str) -> bool:\n",
    "        map1 = []\n",
    "        map2 = []\n",
    "        for idx in s:\n",
    "            map1.append(s.index(idx))\n",
    "        for idx in t:\n",
    "            map2.append(t.index(idx))\n",
    "        if map1 == map2:\n",
    "            return True\n",
    "        return False"
   ]
  },
  {
   "cell_type": "markdown",
   "id": "0552b077",
   "metadata": {},
   "source": [
    "# Problem 2 Longest Substring Without Repeating Characters"
   ]
  },
  {
   "cell_type": "code",
   "execution_count": null,
   "id": "54bc95bc",
   "metadata": {},
   "outputs": [],
   "source": [
    "class Solution:\n",
    "    def lengthOfLongestSubstring(self, s: str) -> int:\n",
    "        l=len(s)\n",
    "        if l==0:\n",
    "            return 0\n",
    "        dicts={}\n",
    "        max_len=0\n",
    "        start=0\n",
    "        for i in range(l):\n",
    "            if s[i] in dicts and start<=dicts[s[i]]:\n",
    "                start = dicts[s[i]]+1\n",
    "            else:\n",
    "                max_len=max(max_len,i-start+1)\n",
    "            dicts[s[i]]=i\n",
    "        return max_len"
   ]
  },
  {
   "cell_type": "code",
   "execution_count": null,
   "id": "2454bdd8",
   "metadata": {},
   "outputs": [],
   "source": [
    "# Problem 3 Minimum Window Substring"
   ]
  }
 ],
 "metadata": {
  "kernelspec": {
   "display_name": "Python 3 (ipykernel)",
   "language": "python",
   "name": "python3"
  },
  "language_info": {
   "codemirror_mode": {
    "name": "ipython",
    "version": 3
   },
   "file_extension": ".py",
   "mimetype": "text/x-python",
   "name": "python",
   "nbconvert_exporter": "python",
   "pygments_lexer": "ipython3",
   "version": "3.8.18"
  }
 },
 "nbformat": 4,
 "nbformat_minor": 5
}
