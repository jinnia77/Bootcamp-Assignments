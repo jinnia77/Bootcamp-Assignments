{
 "cells": [
  {
   "cell_type": "code",
   "execution_count": null,
   "id": "624ba01b",
   "metadata": {},
   "outputs": [],
   "source": [
    "class Solution:\n",
    "    def hasCycle(self, head: Optional[ListNode]) -> bool:\n",
    "    \n",
    "        fast = head\n",
    "        slow = head\n",
    "        \n",
    "        while fast and fast.next:\n",
    "            fast = fast.next.next\n",
    "            slow = slow.next\n",
    "            \n",
    "            if fast == slow:\n",
    "                return True\n",
    "    \n",
    "        return False"
   ]
  },
  {
   "cell_type": "code",
   "execution_count": null,
   "id": "e90e03ea",
   "metadata": {},
   "outputs": [],
   "source": [
    "class Solution:\n",
    "    def minPathSum(self, grid: List[List[int]]) -> int:\n",
    "        n=len(grid)\n",
    "        m=len(grid[0])\n",
    "        for i in range(n):\n",
    "            for j in range(m):\n",
    "                if i==0:\n",
    "                    if j!=0:\n",
    "                        grid[i][j]+=grid[i][j-1]\n",
    "                elif j==0:\n",
    "                    if i!=0:\n",
    "                        grid[i][j]+=grid[i-1][j]\n",
    "                else:\n",
    "                    grid[i][j]+=min(grid[i-1][j],grid[i][j-1])\n",
    "        return grid[n-1][m-1]"
   ]
  },
  {
   "cell_type": "code",
   "execution_count": null,
   "id": "977c4631",
   "metadata": {},
   "outputs": [],
   "source": [
    "class Solution(object):\n",
    "    def mergeKLists(self, lists):\n",
    "        # Create a new ListNode representing the head of the merged list.\n",
    "        # Initialize it with an empty ListNode.\n",
    "        newList = ListNode()\n",
    "        # Create a temporary ListNode to build the merged list.\n",
    "        temporary_list = newList\n",
    "\n",
    "        # Define a helper function to get the smallest value among the current heads of all lists.\n",
    "        def getSmallestValue():\n",
    "            min_value = float('inf')  # Initialize the minimum value as positive infinity.\n",
    "            min_index = -1  # Initialize the index of the list with the minimum value as -1.\n",
    "            for i in range(len(lists)):\n",
    "                # Check if the current list is not empty and its head value is smaller than the current minimum value.\n",
    "                if lists[i] is not None and lists[i].val < min_value:\n",
    "                    min_value = lists[i].val\n",
    "                    min_index = i\n",
    "            if min_index != -1:\n",
    "                # If a list with the minimum value is found, move its head to the next element.\n",
    "                lists[min_index] = lists[min_index].next\n",
    "            return min_value\n",
    "        \n",
    "        # Loop to merge the lists.\n",
    "        while True:\n",
    "            x = getSmallestValue()  # Get the smallest value among the current heads of lists.\n",
    "            if x == float('inf'):\n",
    "                # If the smallest value is still positive infinity, all lists are empty, so break the loop.\n",
    "                break\n",
    "            # Create a new ListNode with the value of the smallest element.\n",
    "            c = ListNode(val=x)\n",
    "            # Connect the new node to the merged list.\n",
    "            temporary_list.next = c\n",
    "            temporary_list = temporary_list.next  # Move the temporary list pointer forward.\n",
    "        \n",
    "        # Return the merged list, excluding the initial empty ListNode.\n",
    "        return newList.next"
   ]
  }
 ],
 "metadata": {
  "kernelspec": {
   "display_name": "Python 3 (ipykernel)",
   "language": "python",
   "name": "python3"
  },
  "language_info": {
   "codemirror_mode": {
    "name": "ipython",
    "version": 3
   },
   "file_extension": ".py",
   "mimetype": "text/x-python",
   "name": "python",
   "nbconvert_exporter": "python",
   "pygments_lexer": "ipython3",
   "version": "3.8.18"
  }
 },
 "nbformat": 4,
 "nbformat_minor": 5
}
